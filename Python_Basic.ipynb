{
  "nbformat": 4,
  "nbformat_minor": 0,
  "metadata": {
    "colab": {
      "provenance": [],
      "authorship_tag": "ABX9TyPnEfZ6FzC8sqUTiVHMMaAq",
      "include_colab_link": true
    },
    "kernelspec": {
      "name": "python3",
      "display_name": "Python 3"
    },
    "language_info": {
      "name": "python"
    }
  },
  "cells": [
    {
      "cell_type": "markdown",
      "metadata": {
        "id": "view-in-github",
        "colab_type": "text"
      },
      "source": [
        "<a href=\"https://colab.research.google.com/github/Imran012x/Colab/blob/main/Python_Basic.ipynb\" target=\"_parent\"><img src=\"https://colab.research.google.com/assets/colab-badge.svg\" alt=\"Open In Colab\"/></a>"
      ]
    },
    {
      "cell_type": "code",
      "execution_count": null,
      "metadata": {
        "colab": {
          "base_uri": "https://localhost:8080/"
        },
        "id": "9wpb1qOR7247",
        "outputId": "e26d6037-2b49-450a-876e-aa01271ba774"
      },
      "outputs": [
        {
          "output_type": "stream",
          "name": "stdout",
          "text": [
            "Enter a positive integer: 8\n",
            "Result: 1\n",
            "Result: 3\n",
            "Result: 6\n",
            "Result: 10\n",
            "Result: 15\n",
            "Result: 21\n",
            "Result: 28\n",
            "Result: 36\n"
          ]
        }
      ],
      "source": [
        "def nimber(n):\n",
        "    if n == 0:\n",
        "        return 0\n",
        "    else:\n",
        "        s = n + nimber(n - 1)\n",
        "        print(\"Result:\", s)\n",
        "        return s\n",
        "\n",
        "n = int(input(\"Enter a positive integer: \"))\n",
        "result = nimber(n)\n"
      ]
    }
  ]
}